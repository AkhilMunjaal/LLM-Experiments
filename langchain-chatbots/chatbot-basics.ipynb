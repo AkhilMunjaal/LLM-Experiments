{
 "cells": [
  {
   "cell_type": "code",
   "execution_count": 1,
   "metadata": {},
   "outputs": [],
   "source": [
    "import os\n",
    "from dotenv import load_dotenv\n",
    "load_dotenv()"
   ]
  },
  {
   "cell_type": "code",
   "execution_count": 3,
   "metadata": {},
   "outputs": [],
   "source": [
    "groq_api_key = os.getenv('GROQ_API_KEY')"
   ]
  },
  {
   "cell_type": "code",
   "execution_count": 9,
   "metadata": {},
   "outputs": [],
   "source": [
    "from langchain_groq import ChatGroq\n",
    "from langchain_core.messages import SystemMessage, HumanMessage, ChatMessage, AIMessage"
   ]
  },
  {
   "cell_type": "code",
   "execution_count": 7,
   "metadata": {},
   "outputs": [],
   "source": [
    "llm = ChatGroq(model='llama-3.1-8b-instant', api_key=groq_api_key)"
   ]
  },
  {
   "cell_type": "code",
   "execution_count": 8,
   "metadata": {},
   "outputs": [
    {
     "data": {
      "text/plain": [
       "AIMessage(content=\"LangChain is a powerful tool for building AI applications. What specific aspect of LangChain are you learning about? LLMs (Large Language Models) or building Chain models with LangChain?\\n\\nIf you're just starting out, I can offer some general guidance or point you in the direction of some resources to get you started.\\n\\nAlso, are you working on a specific project or just exploring the possibilities of LangChain?\", response_metadata={'token_usage': {'completion_tokens': 84, 'prompt_tokens': 18, 'total_tokens': 102, 'completion_time': 0.112, 'prompt_time': 0.005562718, 'queue_time': 0.007879160999999999, 'total_time': 0.117562718}, 'model_name': 'llama-3.1-8b-instant', 'system_fingerprint': 'fp_f66ccb39ec', 'finish_reason': 'stop', 'logprobs': None}, id='run-4d20d470-7e40-4c2e-a342-ceafd05aa9fe-0', usage_metadata={'input_tokens': 18, 'output_tokens': 84, 'total_tokens': 102})"
      ]
     },
     "execution_count": 8,
     "metadata": {},
     "output_type": "execute_result"
    }
   ],
   "source": [
    "llm.invoke(\n",
    "    [\n",
    "        HumanMessage('Hi ! I am learning langchain.')\n",
    "    ]\n",
    ")"
   ]
  },
  {
   "cell_type": "code",
   "execution_count": 10,
   "metadata": {},
   "outputs": [
    {
     "data": {
      "text/plain": [
       "AIMessage(content='You didn\\'t mention what you were learning about LangChain. You only said \"I am learning LangChain\". If you\\'d like to share what specific topic or concept you\\'re currently exploring, I\\'d be happy to try and help!', response_metadata={'token_usage': {'completion_tokens': 48, 'prompt_tokens': 116, 'total_tokens': 164, 'completion_time': 0.064, 'prompt_time': 0.026372395, 'queue_time': 0.0018583450000000008, 'total_time': 0.090372395}, 'model_name': 'llama-3.1-8b-instant', 'system_fingerprint': 'fp_f66ccb39ec', 'finish_reason': 'stop', 'logprobs': None}, id='run-3774bc5f-5996-4cee-8569-f6c8b6c5bf2b-0', usage_metadata={'input_tokens': 116, 'output_tokens': 48, 'total_tokens': 164})"
      ]
     },
     "execution_count": 10,
     "metadata": {},
     "output_type": "execute_result"
    }
   ],
   "source": [
    "llm.invoke(\n",
    "    [\n",
    "        HumanMessage('Hi ! I am learning langchain.'),\n",
    "        AIMessage(content=\"LangChain is a powerful tool for building AI applications. What specific aspect of LangChain are you learning about? LLMs (Large Language Models) or building Chain models with LangChain?\\n\\nIf you're just starting out, I can offer some general guidance or point you in the direction of some resources to get you started.\\n\\nAlso, are you working on a specific project or just exploring the possibilities of LangChain?\"),\n",
    "        HumanMessage('What was i learning ?')\n",
    "    ]\n",
    ")"
   ]
  },
  {
   "cell_type": "markdown",
   "metadata": {},
   "source": [
    "#### Session Management: In chatbot creation, each user session (or conversation) needs to have its own separate history. This ensures that when a user returns or continues a conversation, the bot can remember previous interactions, providing a seamless and context-aware experience.\n"
   ]
  },
  {
   "cell_type": "markdown",
   "metadata": {},
   "source": [
    "#### Multiple Concurrent Sessions: If multiple users are interacting with the chatbot simultaneously, session_id helps in distinguishing between their respective conversations, preventing any mix-up of messages or histories."
   ]
  },
  {
   "cell_type": "code",
   "execution_count": null,
   "metadata": {},
   "outputs": [],
   "source": []
  }
 ],
 "metadata": {
  "kernelspec": {
   "display_name": ".venv",
   "language": "python",
   "name": "python3"
  },
  "language_info": {
   "codemirror_mode": {
    "name": "ipython",
    "version": 3
   },
   "file_extension": ".py",
   "mimetype": "text/x-python",
   "name": "python",
   "nbconvert_exporter": "python",
   "pygments_lexer": "ipython3",
   "version": "3.9.6"
  }
 },
 "nbformat": 4,
 "nbformat_minor": 2
}
